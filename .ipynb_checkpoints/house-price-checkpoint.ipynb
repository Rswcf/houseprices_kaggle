{
 "cells": [
  {
   "cell_type": "code",
   "execution_count": 4,
   "metadata": {
    "_cell_guid": "b1076dfc-b9ad-4769-8c92-a6c4dae69d19",
    "_uuid": "8f2839f25d086af736a60e9eeb907d3b93b6e0e5",
    "execution": {
     "iopub.execute_input": "2021-06-18T18:19:17.943654Z",
     "iopub.status.busy": "2021-06-18T18:19:17.943219Z",
     "iopub.status.idle": "2021-06-18T18:19:17.95697Z",
     "shell.execute_reply": "2021-06-18T18:19:17.955799Z",
     "shell.execute_reply.started": "2021-06-18T18:19:17.943566Z"
    }
   },
   "outputs": [
    {
     "name": "stdout",
     "output_type": "stream",
     "text": [
      "D:\\my_projects\\house-prices-advanced-regression-techniques\\data_description.txt\n",
      "D:\\my_projects\\house-prices-advanced-regression-techniques\\house-price.ipynb\n",
      "D:\\my_projects\\house-prices-advanced-regression-techniques\\sample_submission.csv\n",
      "D:\\my_projects\\house-prices-advanced-regression-techniques\\test.csv\n",
      "D:\\my_projects\\house-prices-advanced-regression-techniques\\train.csv\n"
     ]
    }
   ],
   "source": [
    "# This Python 3 environment comes with many helpful analytics libraries installed\n",
    "# It is defined by the kaggle/python Docker image: https://github.com/kaggle/docker-python\n",
    "# For example, here's several helpful packages to load\n",
    "\n",
    "import numpy as np # linear algebra\n",
    "import pandas as pd # data processing, CSV file I/O (e.g. pd.read_csv<)\n",
    "\n",
    "# Input data files are available in the read-only \"../input/\" directory\n",
    "# For example, running this (by clicking run or pressing Shift+Enter) will list all files under the input directory\n",
    "\n",
    "import os\n",
    "for dirname, _, filenames in os.walk('D:\\my_projects\\house-prices-advanced-regression-techniques'):\n",
    "    for filename in filenames:\n",
    "        print(os.path.join(dirname, filename))\n",
    "\n",
    "# You can write up to 20GB to the current directory (/kaggle/working/) that gets preserved as output when you create a version using \"Save & Run All\" \n",
    "# You can also write temporary files to /kaggle/temp/, but they won't be saved outside of the current session"
   ]
  },
  {
   "cell_type": "code",
   "execution_count": 3,
   "metadata": {
    "execution": {
     "iopub.execute_input": "2021-06-18T18:20:51.238581Z",
     "iopub.status.busy": "2021-06-18T18:20:51.237982Z",
     "iopub.status.idle": "2021-06-18T18:20:51.27876Z",
     "shell.execute_reply": "2021-06-18T18:20:51.277811Z",
     "shell.execute_reply.started": "2021-06-18T18:20:51.23852Z"
    }
   },
   "outputs": [
    {
     "ename": "FileNotFoundError",
     "evalue": "[Errno 2] No such file or directory: '../sample_submission.csv'",
     "output_type": "error",
     "traceback": [
      "\u001b[1;31m---------------------------------------------------------------------------\u001b[0m",
      "\u001b[1;31mFileNotFoundError\u001b[0m                         Traceback (most recent call last)",
      "\u001b[1;32m<ipython-input-3-108c1dff1644>\u001b[0m in \u001b[0;36m<module>\u001b[1;34m\u001b[0m\n\u001b[1;32m----> 1\u001b[1;33m \u001b[0msample_submission\u001b[0m \u001b[1;33m=\u001b[0m \u001b[0mpd\u001b[0m\u001b[1;33m.\u001b[0m\u001b[0mread_csv\u001b[0m\u001b[1;33m(\u001b[0m\u001b[1;34m'../sample_submission.csv'\u001b[0m\u001b[1;33m)\u001b[0m\u001b[1;33m\u001b[0m\u001b[1;33m\u001b[0m\u001b[0m\n\u001b[0m\u001b[0;32m      2\u001b[0m \u001b[0msample_submission\u001b[0m\u001b[1;33m\u001b[0m\u001b[1;33m\u001b[0m\u001b[0m\n",
      "\u001b[1;32mD:\\tools\\Anaconda\\lib\\site-packages\\pandas\\io\\parsers.py\u001b[0m in \u001b[0;36mread_csv\u001b[1;34m(filepath_or_buffer, sep, delimiter, header, names, index_col, usecols, squeeze, prefix, mangle_dupe_cols, dtype, engine, converters, true_values, false_values, skipinitialspace, skiprows, skipfooter, nrows, na_values, keep_default_na, na_filter, verbose, skip_blank_lines, parse_dates, infer_datetime_format, keep_date_col, date_parser, dayfirst, cache_dates, iterator, chunksize, compression, thousands, decimal, lineterminator, quotechar, quoting, doublequote, escapechar, comment, encoding, dialect, error_bad_lines, warn_bad_lines, delim_whitespace, low_memory, memory_map, float_precision, storage_options)\u001b[0m\n\u001b[0;32m    608\u001b[0m     \u001b[0mkwds\u001b[0m\u001b[1;33m.\u001b[0m\u001b[0mupdate\u001b[0m\u001b[1;33m(\u001b[0m\u001b[0mkwds_defaults\u001b[0m\u001b[1;33m)\u001b[0m\u001b[1;33m\u001b[0m\u001b[1;33m\u001b[0m\u001b[0m\n\u001b[0;32m    609\u001b[0m \u001b[1;33m\u001b[0m\u001b[0m\n\u001b[1;32m--> 610\u001b[1;33m     \u001b[1;32mreturn\u001b[0m \u001b[0m_read\u001b[0m\u001b[1;33m(\u001b[0m\u001b[0mfilepath_or_buffer\u001b[0m\u001b[1;33m,\u001b[0m \u001b[0mkwds\u001b[0m\u001b[1;33m)\u001b[0m\u001b[1;33m\u001b[0m\u001b[1;33m\u001b[0m\u001b[0m\n\u001b[0m\u001b[0;32m    611\u001b[0m \u001b[1;33m\u001b[0m\u001b[0m\n\u001b[0;32m    612\u001b[0m \u001b[1;33m\u001b[0m\u001b[0m\n",
      "\u001b[1;32mD:\\tools\\Anaconda\\lib\\site-packages\\pandas\\io\\parsers.py\u001b[0m in \u001b[0;36m_read\u001b[1;34m(filepath_or_buffer, kwds)\u001b[0m\n\u001b[0;32m    460\u001b[0m \u001b[1;33m\u001b[0m\u001b[0m\n\u001b[0;32m    461\u001b[0m     \u001b[1;31m# Create the parser.\u001b[0m\u001b[1;33m\u001b[0m\u001b[1;33m\u001b[0m\u001b[1;33m\u001b[0m\u001b[0m\n\u001b[1;32m--> 462\u001b[1;33m     \u001b[0mparser\u001b[0m \u001b[1;33m=\u001b[0m \u001b[0mTextFileReader\u001b[0m\u001b[1;33m(\u001b[0m\u001b[0mfilepath_or_buffer\u001b[0m\u001b[1;33m,\u001b[0m \u001b[1;33m**\u001b[0m\u001b[0mkwds\u001b[0m\u001b[1;33m)\u001b[0m\u001b[1;33m\u001b[0m\u001b[1;33m\u001b[0m\u001b[0m\n\u001b[0m\u001b[0;32m    463\u001b[0m \u001b[1;33m\u001b[0m\u001b[0m\n\u001b[0;32m    464\u001b[0m     \u001b[1;32mif\u001b[0m \u001b[0mchunksize\u001b[0m \u001b[1;32mor\u001b[0m \u001b[0miterator\u001b[0m\u001b[1;33m:\u001b[0m\u001b[1;33m\u001b[0m\u001b[1;33m\u001b[0m\u001b[0m\n",
      "\u001b[1;32mD:\\tools\\Anaconda\\lib\\site-packages\\pandas\\io\\parsers.py\u001b[0m in \u001b[0;36m__init__\u001b[1;34m(self, f, engine, **kwds)\u001b[0m\n\u001b[0;32m    817\u001b[0m             \u001b[0mself\u001b[0m\u001b[1;33m.\u001b[0m\u001b[0moptions\u001b[0m\u001b[1;33m[\u001b[0m\u001b[1;34m\"has_index_names\"\u001b[0m\u001b[1;33m]\u001b[0m \u001b[1;33m=\u001b[0m \u001b[0mkwds\u001b[0m\u001b[1;33m[\u001b[0m\u001b[1;34m\"has_index_names\"\u001b[0m\u001b[1;33m]\u001b[0m\u001b[1;33m\u001b[0m\u001b[1;33m\u001b[0m\u001b[0m\n\u001b[0;32m    818\u001b[0m \u001b[1;33m\u001b[0m\u001b[0m\n\u001b[1;32m--> 819\u001b[1;33m         \u001b[0mself\u001b[0m\u001b[1;33m.\u001b[0m\u001b[0m_engine\u001b[0m \u001b[1;33m=\u001b[0m \u001b[0mself\u001b[0m\u001b[1;33m.\u001b[0m\u001b[0m_make_engine\u001b[0m\u001b[1;33m(\u001b[0m\u001b[0mself\u001b[0m\u001b[1;33m.\u001b[0m\u001b[0mengine\u001b[0m\u001b[1;33m)\u001b[0m\u001b[1;33m\u001b[0m\u001b[1;33m\u001b[0m\u001b[0m\n\u001b[0m\u001b[0;32m    820\u001b[0m \u001b[1;33m\u001b[0m\u001b[0m\n\u001b[0;32m    821\u001b[0m     \u001b[1;32mdef\u001b[0m \u001b[0mclose\u001b[0m\u001b[1;33m(\u001b[0m\u001b[0mself\u001b[0m\u001b[1;33m)\u001b[0m\u001b[1;33m:\u001b[0m\u001b[1;33m\u001b[0m\u001b[1;33m\u001b[0m\u001b[0m\n",
      "\u001b[1;32mD:\\tools\\Anaconda\\lib\\site-packages\\pandas\\io\\parsers.py\u001b[0m in \u001b[0;36m_make_engine\u001b[1;34m(self, engine)\u001b[0m\n\u001b[0;32m   1048\u001b[0m             )\n\u001b[0;32m   1049\u001b[0m         \u001b[1;31m# error: Too many arguments for \"ParserBase\"\u001b[0m\u001b[1;33m\u001b[0m\u001b[1;33m\u001b[0m\u001b[1;33m\u001b[0m\u001b[0m\n\u001b[1;32m-> 1050\u001b[1;33m         \u001b[1;32mreturn\u001b[0m \u001b[0mmapping\u001b[0m\u001b[1;33m[\u001b[0m\u001b[0mengine\u001b[0m\u001b[1;33m]\u001b[0m\u001b[1;33m(\u001b[0m\u001b[0mself\u001b[0m\u001b[1;33m.\u001b[0m\u001b[0mf\u001b[0m\u001b[1;33m,\u001b[0m \u001b[1;33m**\u001b[0m\u001b[0mself\u001b[0m\u001b[1;33m.\u001b[0m\u001b[0moptions\u001b[0m\u001b[1;33m)\u001b[0m  \u001b[1;31m# type: ignore[call-arg]\u001b[0m\u001b[1;33m\u001b[0m\u001b[1;33m\u001b[0m\u001b[0m\n\u001b[0m\u001b[0;32m   1051\u001b[0m \u001b[1;33m\u001b[0m\u001b[0m\n\u001b[0;32m   1052\u001b[0m     \u001b[1;32mdef\u001b[0m \u001b[0m_failover_to_python\u001b[0m\u001b[1;33m(\u001b[0m\u001b[0mself\u001b[0m\u001b[1;33m)\u001b[0m\u001b[1;33m:\u001b[0m\u001b[1;33m\u001b[0m\u001b[1;33m\u001b[0m\u001b[0m\n",
      "\u001b[1;32mD:\\tools\\Anaconda\\lib\\site-packages\\pandas\\io\\parsers.py\u001b[0m in \u001b[0;36m__init__\u001b[1;34m(self, src, **kwds)\u001b[0m\n\u001b[0;32m   1865\u001b[0m \u001b[1;33m\u001b[0m\u001b[0m\n\u001b[0;32m   1866\u001b[0m         \u001b[1;31m# open handles\u001b[0m\u001b[1;33m\u001b[0m\u001b[1;33m\u001b[0m\u001b[1;33m\u001b[0m\u001b[0m\n\u001b[1;32m-> 1867\u001b[1;33m         \u001b[0mself\u001b[0m\u001b[1;33m.\u001b[0m\u001b[0m_open_handles\u001b[0m\u001b[1;33m(\u001b[0m\u001b[0msrc\u001b[0m\u001b[1;33m,\u001b[0m \u001b[0mkwds\u001b[0m\u001b[1;33m)\u001b[0m\u001b[1;33m\u001b[0m\u001b[1;33m\u001b[0m\u001b[0m\n\u001b[0m\u001b[0;32m   1868\u001b[0m         \u001b[1;32massert\u001b[0m \u001b[0mself\u001b[0m\u001b[1;33m.\u001b[0m\u001b[0mhandles\u001b[0m \u001b[1;32mis\u001b[0m \u001b[1;32mnot\u001b[0m \u001b[1;32mNone\u001b[0m\u001b[1;33m\u001b[0m\u001b[1;33m\u001b[0m\u001b[0m\n\u001b[0;32m   1869\u001b[0m         \u001b[1;32mfor\u001b[0m \u001b[0mkey\u001b[0m \u001b[1;32min\u001b[0m \u001b[1;33m(\u001b[0m\u001b[1;34m\"storage_options\"\u001b[0m\u001b[1;33m,\u001b[0m \u001b[1;34m\"encoding\"\u001b[0m\u001b[1;33m,\u001b[0m \u001b[1;34m\"memory_map\"\u001b[0m\u001b[1;33m,\u001b[0m \u001b[1;34m\"compression\"\u001b[0m\u001b[1;33m)\u001b[0m\u001b[1;33m:\u001b[0m\u001b[1;33m\u001b[0m\u001b[1;33m\u001b[0m\u001b[0m\n",
      "\u001b[1;32mD:\\tools\\Anaconda\\lib\\site-packages\\pandas\\io\\parsers.py\u001b[0m in \u001b[0;36m_open_handles\u001b[1;34m(self, src, kwds)\u001b[0m\n\u001b[0;32m   1360\u001b[0m         \u001b[0mLet\u001b[0m \u001b[0mthe\u001b[0m \u001b[0mreaders\u001b[0m \u001b[0mopen\u001b[0m \u001b[0mIOHanldes\u001b[0m \u001b[0mafter\u001b[0m \u001b[0mthey\u001b[0m \u001b[0mare\u001b[0m \u001b[0mdone\u001b[0m \u001b[1;32mwith\u001b[0m \u001b[0mtheir\u001b[0m \u001b[0mpotential\u001b[0m \u001b[0mraises\u001b[0m\u001b[1;33m.\u001b[0m\u001b[1;33m\u001b[0m\u001b[1;33m\u001b[0m\u001b[0m\n\u001b[0;32m   1361\u001b[0m         \"\"\"\n\u001b[1;32m-> 1362\u001b[1;33m         self.handles = get_handle(\n\u001b[0m\u001b[0;32m   1363\u001b[0m             \u001b[0msrc\u001b[0m\u001b[1;33m,\u001b[0m\u001b[1;33m\u001b[0m\u001b[1;33m\u001b[0m\u001b[0m\n\u001b[0;32m   1364\u001b[0m             \u001b[1;34m\"r\"\u001b[0m\u001b[1;33m,\u001b[0m\u001b[1;33m\u001b[0m\u001b[1;33m\u001b[0m\u001b[0m\n",
      "\u001b[1;32mD:\\tools\\Anaconda\\lib\\site-packages\\pandas\\io\\common.py\u001b[0m in \u001b[0;36mget_handle\u001b[1;34m(path_or_buf, mode, encoding, compression, memory_map, is_text, errors, storage_options)\u001b[0m\n\u001b[0;32m    640\u001b[0m                 \u001b[0merrors\u001b[0m \u001b[1;33m=\u001b[0m \u001b[1;34m\"replace\"\u001b[0m\u001b[1;33m\u001b[0m\u001b[1;33m\u001b[0m\u001b[0m\n\u001b[0;32m    641\u001b[0m             \u001b[1;31m# Encoding\u001b[0m\u001b[1;33m\u001b[0m\u001b[1;33m\u001b[0m\u001b[1;33m\u001b[0m\u001b[0m\n\u001b[1;32m--> 642\u001b[1;33m             handle = open(\n\u001b[0m\u001b[0;32m    643\u001b[0m                 \u001b[0mhandle\u001b[0m\u001b[1;33m,\u001b[0m\u001b[1;33m\u001b[0m\u001b[1;33m\u001b[0m\u001b[0m\n\u001b[0;32m    644\u001b[0m                 \u001b[0mioargs\u001b[0m\u001b[1;33m.\u001b[0m\u001b[0mmode\u001b[0m\u001b[1;33m,\u001b[0m\u001b[1;33m\u001b[0m\u001b[1;33m\u001b[0m\u001b[0m\n",
      "\u001b[1;31mFileNotFoundError\u001b[0m: [Errno 2] No such file or directory: '../sample_submission.csv'"
     ]
    }
   ],
   "source": [
    "sample_submission = pd.read_csv('../sample_submission.csv')\n",
    "sample_submission\n"
   ]
  },
  {
   "cell_type": "code",
   "execution_count": null,
   "metadata": {
    "execution": {
     "iopub.execute_input": "2021-06-18T18:19:17.973563Z",
     "iopub.status.busy": "2021-06-18T18:19:17.973143Z",
     "iopub.status.idle": "2021-06-18T18:19:20.844874Z",
     "shell.execute_reply": "2021-06-18T18:19:20.843884Z",
     "shell.execute_reply.started": "2021-06-18T18:19:17.973529Z"
    }
   },
   "outputs": [],
   "source": [
    "# Essentials\n",
    "import numpy as np\n",
    "import pandas as pd\n",
    "import datetime\n",
    "import random\n",
    "\n",
    "# Plots\n",
    "import matplotlib.pyplot as plt\n",
    "import seaborn as sns\n",
    "\n",
    "# Models\n",
    "from sklearn.ensemble import RandomForestRegressor, GradientBoostingRegressor, AdaBoostRegressor, BaggingRegressor\n",
    "from sklearn.kernel_ridge import KernelRidge\n",
    "from sklearn.linear_model import Ridge, RidgeCV\n",
    "from sklearn.linear_model import ElasticNet, ElasticNetCV\n",
    "from sklearn.svm import SVR\n",
    "from mlxtend.regressor import StackingCVRegressor\n",
    "import lightgbm as lgb\n",
    "from lightgbm import LGBMRegressor\n",
    "from xgboost import XGBRegressor\n",
    "from sklearn.preprocessing import StandardScaler\n",
    "from scipy.stats import norm\n",
    "from scipy import stats\n",
    "import warnings\n",
    "\n",
    "# Stats\n",
    "from scipy.stats import skew, norm\n",
    "from scipy.special import boxcox1p\n",
    "from scipy.stats import boxcox_normmax\n",
    "\n",
    "# Misc\n",
    "from sklearn.model_selection import GridSearchCV\n",
    "from sklearn.model_selection import KFold, cross_val_score\n",
    "from sklearn.metrics import mean_squared_error\n",
    "from sklearn.preprocessing import OneHotEncoder\n",
    "from sklearn.preprocessing import LabelEncoder\n",
    "from sklearn.pipeline import make_pipeline\n",
    "from sklearn.preprocessing import scale\n",
    "from sklearn.preprocessing import StandardScaler\n",
    "from sklearn.preprocessing import RobustScaler\n",
    "from sklearn.decomposition import PCA\n",
    "\n",
    "warnings.filterwarnings('ignore')\n",
    "%matplotlib inline\n",
    "\n",
    "# Models\n",
    "from sklearn.ensemble import RandomForestRegressor, GradientBoostingRegressor, AdaBoostRegressor, BaggingRegressor\n",
    "from sklearn.kernel_ridge import KernelRidge\n",
    "from sklearn.linear_model import Ridge, RidgeCV\n",
    "from sklearn.linear_model import ElasticNet, ElasticNetCV\n",
    "from sklearn.svm import SVR\n",
    "from mlxtend.regressor import StackingCVRegressor\n",
    "import lightgbm as lgb\n",
    "from lightgbm import LGBMRegressor\n",
    "from xgboost import XGBRegressor\n",
    "\n",
    "# Stats\n",
    "from scipy.stats import skew, norm\n",
    "from scipy.special import boxcox1p\n",
    "from scipy.stats import boxcox_normmax\n",
    "\n",
    "# Misc\n",
    "from sklearn.model_selection import GridSearchCV\n",
    "from sklearn.model_selection import KFold, cross_val_score\n",
    "from sklearn.metrics import mean_squared_error\n",
    "from sklearn.preprocessing import OneHotEncoder\n",
    "from sklearn.preprocessing import LabelEncoder\n",
    "from sklearn.pipeline import make_pipeline\n",
    "from sklearn.preprocessing import scale\n",
    "from sklearn.preprocessing import StandardScaler\n",
    "from sklearn.preprocessing import RobustScaler\n",
    "from sklearn.decomposition import PCA"
   ]
  },
  {
   "cell_type": "code",
   "execution_count": null,
   "metadata": {
    "execution": {
     "iopub.execute_input": "2021-06-14T11:41:10.940139Z",
     "iopub.status.busy": "2021-06-14T11:41:10.939842Z",
     "iopub.status.idle": "2021-06-14T11:41:10.947866Z",
     "shell.execute_reply": "2021-06-14T11:41:10.946429Z",
     "shell.execute_reply.started": "2021-06-14T11:41:10.94011Z"
    }
   },
   "outputs": [],
   "source": [
    "os.getcwd()"
   ]
  },
  {
   "cell_type": "code",
   "execution_count": null,
   "metadata": {
    "execution": {
     "iopub.execute_input": "2021-06-14T11:41:10.950764Z",
     "iopub.status.busy": "2021-06-14T11:41:10.950401Z",
     "iopub.status.idle": "2021-06-14T11:41:11.051624Z",
     "shell.execute_reply": "2021-06-14T11:41:11.050233Z",
     "shell.execute_reply.started": "2021-06-14T11:41:10.950725Z"
    }
   },
   "outputs": [],
   "source": [
    "train_data = pd.read_csv('../input/house-prices-advanced-regression-techniques/train.csv')\n",
    "test_data = pd.read_csv('../input/house-prices-advanced-regression-techniques/test.csv')\n",
    "train_data.shape, test_data.shape"
   ]
  },
  {
   "cell_type": "code",
   "execution_count": null,
   "metadata": {
    "execution": {
     "iopub.execute_input": "2021-06-14T11:42:19.243954Z",
     "iopub.status.busy": "2021-06-14T11:42:19.243592Z",
     "iopub.status.idle": "2021-06-14T11:42:19.288392Z",
     "shell.execute_reply": "2021-06-14T11:42:19.287268Z",
     "shell.execute_reply.started": "2021-06-14T11:42:19.243923Z"
    }
   },
   "outputs": [],
   "source": [
    "train_data"
   ]
  },
  {
   "cell_type": "code",
   "execution_count": null,
   "metadata": {
    "execution": {
     "iopub.execute_input": "2021-06-14T11:42:29.574978Z",
     "iopub.status.busy": "2021-06-14T11:42:29.574527Z",
     "iopub.status.idle": "2021-06-14T11:42:29.619543Z",
     "shell.execute_reply": "2021-06-14T11:42:29.618731Z",
     "shell.execute_reply.started": "2021-06-14T11:42:29.574928Z"
    }
   },
   "outputs": [],
   "source": [
    "test_data"
   ]
  },
  {
   "cell_type": "code",
   "execution_count": null,
   "metadata": {
    "execution": {
     "iopub.execute_input": "2021-06-14T11:50:37.439395Z",
     "iopub.status.busy": "2021-06-14T11:50:37.438892Z",
     "iopub.status.idle": "2021-06-14T11:50:37.765858Z",
     "shell.execute_reply": "2021-06-14T11:50:37.764194Z",
     "shell.execute_reply.started": "2021-06-14T11:50:37.439355Z"
    }
   },
   "outputs": [],
   "source": [
    "# descriptive statistics summary\n",
    "print(train_data['SalePrice'].describe())\n",
    "\n",
    "# histogramm for SalePrice\n",
    "sns.distplot(train_data['SalePrice'])"
   ]
  },
  {
   "cell_type": "code",
   "execution_count": null,
   "metadata": {
    "execution": {
     "iopub.execute_input": "2021-06-14T11:50:40.783866Z",
     "iopub.status.busy": "2021-06-14T11:50:40.783462Z",
     "iopub.status.idle": "2021-06-14T11:50:40.791122Z",
     "shell.execute_reply": "2021-06-14T11:50:40.789869Z",
     "shell.execute_reply.started": "2021-06-14T11:50:40.783817Z"
    }
   },
   "outputs": [],
   "source": [
    "# skewness and kurtosis\n",
    "print('Skewness: %f' % train_data['SalePrice'].skew())\n",
    "print('Kurtosis: %f' % train_data['SalePrice'].kurt())"
   ]
  },
  {
   "cell_type": "markdown",
   "metadata": {},
   "source": [
    "## Relationship with numerical variables"
   ]
  },
  {
   "cell_type": "code",
   "execution_count": null,
   "metadata": {
    "execution": {
     "iopub.execute_input": "2021-06-14T11:51:03.248884Z",
     "iopub.status.busy": "2021-06-14T11:51:03.248379Z",
     "iopub.status.idle": "2021-06-14T11:51:03.50333Z",
     "shell.execute_reply": "2021-06-14T11:51:03.502501Z",
     "shell.execute_reply.started": "2021-06-14T11:51:03.248839Z"
    }
   },
   "outputs": [],
   "source": [
    "# scatter plot totalbsmtsf / saleprice\n",
    "var = 'TotalBsmtSF'\n",
    "data = pd.concat([train_data['SalePrice'], train_data[var]], axis = 1)\n",
    "data.plot.scatter(x = var, y = 'SalePrice', ylim = (0,800000))"
   ]
  },
  {
   "cell_type": "code",
   "execution_count": null,
   "metadata": {
    "execution": {
     "iopub.execute_input": "2021-06-14T11:51:09.915856Z",
     "iopub.status.busy": "2021-06-14T11:51:09.914994Z",
     "iopub.status.idle": "2021-06-14T11:51:10.113922Z",
     "shell.execute_reply": "2021-06-14T11:51:10.112733Z",
     "shell.execute_reply.started": "2021-06-14T11:51:09.915816Z"
    }
   },
   "outputs": [],
   "source": [
    "# scatter plot grlivarea / saleprice\n",
    "var = 'GrLivArea'\n",
    "data = pd.concat([train_data['SalePrice'], train_data[var]], axis = 1)\n",
    "data.plot.scatter(x = var, y = 'SalePrice', ylim = (0,800000))"
   ]
  },
  {
   "cell_type": "markdown",
   "metadata": {},
   "source": [
    "## Relationship with categorical features"
   ]
  },
  {
   "cell_type": "code",
   "execution_count": null,
   "metadata": {
    "execution": {
     "iopub.execute_input": "2021-06-14T11:51:24.45105Z",
     "iopub.status.busy": "2021-06-14T11:51:24.450666Z",
     "iopub.status.idle": "2021-06-14T11:51:24.819595Z",
     "shell.execute_reply": "2021-06-14T11:51:24.818437Z",
     "shell.execute_reply.started": "2021-06-14T11:51:24.451019Z"
    }
   },
   "outputs": [],
   "source": [
    "# box plot overallqual/saleprice\n",
    "var = 'OverallQual'\n",
    "data = pd.concat([train_data['SalePrice'], train_data[var]], axis = 1)\n",
    "f, ax = plt.subplots(figsize = (8, 6))\n",
    "fig = sns.boxplot(x = var, y = 'SalePrice', data = data)\n",
    "fig.axis(ymin = 0, ymax = 800000)"
   ]
  },
  {
   "cell_type": "code",
   "execution_count": null,
   "metadata": {
    "execution": {
     "iopub.execute_input": "2021-06-14T11:51:36.082112Z",
     "iopub.status.busy": "2021-06-14T11:51:36.08173Z",
     "iopub.status.idle": "2021-06-14T11:51:39.448581Z",
     "shell.execute_reply": "2021-06-14T11:51:39.447578Z",
     "shell.execute_reply.started": "2021-06-14T11:51:36.082077Z"
    }
   },
   "outputs": [],
   "source": [
    "var = 'YearBuilt'\n",
    "data = pd.concat([train_data['SalePrice'], train_data[var]], axis=1)\n",
    "f, ax = plt.subplots(figsize=(16, 8))\n",
    "fig = sns.boxplot(x=var, y=\"SalePrice\", data=data)\n",
    "fig.axis(ymin=0, ymax=800000);\n",
    "plt.xticks(rotation=90);"
   ]
  },
  {
   "cell_type": "code",
   "execution_count": null,
   "metadata": {
    "execution": {
     "iopub.execute_input": "2021-06-14T11:51:42.439093Z",
     "iopub.status.busy": "2021-06-14T11:51:42.438427Z",
     "iopub.status.idle": "2021-06-14T11:51:49.79188Z",
     "shell.execute_reply": "2021-06-14T11:51:49.790793Z",
     "shell.execute_reply.started": "2021-06-14T11:51:42.439042Z"
    }
   },
   "outputs": [],
   "source": [
    "# Correlation matrix\n",
    "corrmat = train_data.corr()\n",
    "f, ax = plt.subplots(figsize = (24, 18))\n",
    "sns.heatmap(corrmat, vmax = .8, square = True, annot = True)"
   ]
  },
  {
   "cell_type": "code",
   "execution_count": null,
   "metadata": {
    "execution": {
     "iopub.execute_input": "2021-06-14T11:52:27.883168Z",
     "iopub.status.busy": "2021-06-14T11:52:27.882565Z",
     "iopub.status.idle": "2021-06-14T11:52:28.716529Z",
     "shell.execute_reply": "2021-06-14T11:52:28.715321Z",
     "shell.execute_reply.started": "2021-06-14T11:52:27.883097Z"
    }
   },
   "outputs": [],
   "source": [
    "# SalePrice correlation Matrix\n",
    "k = 10 # num of variables in the heatmap\n",
    "cols = corrmat.nlargest(k, 'SalePrice')['SalePrice'].index\n",
    "cm = np.corrcoef(train_data[cols].values.T)\n",
    "sns.set(font_scale =1.25)\n",
    "hm = sns.heatmap(cm, cbar = True, annot = True, square = True, fmt = '.2f', annot_kws = {'size': 10}, yticklabels = cols.values, xticklabels = cols.values)\n",
    "plt.show()"
   ]
  },
  {
   "cell_type": "code",
   "execution_count": null,
   "metadata": {
    "execution": {
     "iopub.execute_input": "2021-06-14T11:52:49.834078Z",
     "iopub.status.busy": "2021-06-14T11:52:49.833713Z",
     "iopub.status.idle": "2021-06-14T11:53:00.892923Z",
     "shell.execute_reply": "2021-06-14T11:53:00.892184Z",
     "shell.execute_reply.started": "2021-06-14T11:52:49.834046Z"
    }
   },
   "outputs": [],
   "source": [
    "#scatterplot\n",
    "sns.set()\n",
    "cols = ['SalePrice', 'OverallQual', 'GrLivArea', 'GarageCars', 'TotalBsmtSF', 'FullBath', 'YearBuilt']\n",
    "sns.pairplot(train_data[cols], size = 2.5)\n",
    "plt.show()"
   ]
  },
  {
   "cell_type": "markdown",
   "metadata": {},
   "source": [
    "## Feature Engineering"
   ]
  },
  {
   "cell_type": "code",
   "execution_count": null,
   "metadata": {
    "execution": {
     "iopub.execute_input": "2021-06-14T11:54:54.789197Z",
     "iopub.status.busy": "2021-06-14T11:54:54.788624Z",
     "iopub.status.idle": "2021-06-14T11:54:54.831201Z",
     "shell.execute_reply": "2021-06-14T11:54:54.83002Z",
     "shell.execute_reply.started": "2021-06-14T11:54:54.789137Z"
    }
   },
   "outputs": [],
   "source": [
    "# Missing data\n",
    "total = train_data.isnull().sum().sort_values(ascending = False)\n",
    "percent = (train_data.isnull().sum()/train_data.isnull().count()).sort_values(ascending=False)\n",
    "\n",
    "missing_data = pd.concat([total, percent], axis = 1, keys = ['Total','Percent'])\n",
    "missing_data.head(20)"
   ]
  },
  {
   "cell_type": "code",
   "execution_count": null,
   "metadata": {
    "execution": {
     "iopub.execute_input": "2021-06-14T12:02:30.93224Z",
     "iopub.status.busy": "2021-06-14T12:02:30.931767Z",
     "iopub.status.idle": "2021-06-14T12:02:30.942366Z",
     "shell.execute_reply": "2021-06-14T12:02:30.940991Z",
     "shell.execute_reply.started": "2021-06-14T12:02:30.932204Z"
    }
   },
   "outputs": [],
   "source": [
    "train_data['PoolQC']"
   ]
  },
  {
   "cell_type": "code",
   "execution_count": null,
   "metadata": {},
   "outputs": [],
   "source": [
    "# handle the missing data\n",
    "def handle_missing(data):\n",
    "    data['PoolQC'].fillna['None', inplace = True]\n",
    "    data['MiscFeature'].fillna['None', inplace = True]\n",
    "    \n",
    "    \n"
   ]
  },
  {
   "cell_type": "code",
   "execution_count": null,
   "metadata": {
    "execution": {
     "iopub.execute_input": "2021-06-14T11:14:52.837562Z",
     "iopub.status.busy": "2021-06-14T11:14:52.837214Z",
     "iopub.status.idle": "2021-06-14T11:14:52.854208Z",
     "shell.execute_reply": "2021-06-14T11:14:52.853203Z",
     "shell.execute_reply.started": "2021-06-14T11:14:52.837533Z"
    }
   },
   "outputs": [],
   "source": [
    "# Dealing with missing data\n",
    "train_data = train_data.drop((missing_data[missing_data['Total'] > 1]).index, 1)\n",
    "train_data = train_data.drop(train_data.loc[train_data['Electrical'].isnull()].index)\n",
    "\n",
    "test_data = test_data.drop((missing_data[missing_data['Total'] > 1]).index, 1)\n",
    "train_data.isnull().sum().max()"
   ]
  },
  {
   "cell_type": "code",
   "execution_count": null,
   "metadata": {
    "execution": {
     "iopub.execute_input": "2021-06-14T11:14:54.192639Z",
     "iopub.status.busy": "2021-06-14T11:14:54.19231Z",
     "iopub.status.idle": "2021-06-14T11:14:54.202996Z",
     "shell.execute_reply": "2021-06-14T11:14:54.202006Z",
     "shell.execute_reply.started": "2021-06-14T11:14:54.192609Z"
    }
   },
   "outputs": [],
   "source": [
    "# Univariate analysis\n",
    "saleprice_scaled = StandardScaler().fit_transform(train_data['SalePrice'][:,np.newaxis])\n",
    "low_range = saleprice_scaled[saleprice_scaled[:,0].argsort()][:10]\n",
    "high_range= saleprice_scaled[saleprice_scaled[:,0].argsort()][-10:]\n",
    "print('outer range (low) of the distribution:')\n",
    "print(low_range)\n",
    "print('\\nouter range (high) of the distribution:')\n",
    "print(high_range)"
   ]
  },
  {
   "cell_type": "code",
   "execution_count": null,
   "metadata": {
    "execution": {
     "iopub.execute_input": "2021-06-14T11:15:00.77928Z",
     "iopub.status.busy": "2021-06-14T11:15:00.778777Z",
     "iopub.status.idle": "2021-06-14T11:15:00.958559Z",
     "shell.execute_reply": "2021-06-14T11:15:00.957745Z",
     "shell.execute_reply.started": "2021-06-14T11:15:00.779237Z"
    }
   },
   "outputs": [],
   "source": [
    "# Bivariate analysis saleprice/grlivarea\n",
    "var = 'GrLivArea'\n",
    "data = pd.concat([train_data['SalePrice'], train_data[var]], axis = 1)\n",
    "data.plot.scatter(x = var, y = 'SalePrice', ylim = (0, 800000))"
   ]
  },
  {
   "cell_type": "code",
   "execution_count": null,
   "metadata": {
    "execution": {
     "iopub.execute_input": "2021-06-14T11:16:38.258531Z",
     "iopub.status.busy": "2021-06-14T11:16:38.257994Z",
     "iopub.status.idle": "2021-06-14T11:16:38.266512Z",
     "shell.execute_reply": "2021-06-14T11:16:38.265383Z",
     "shell.execute_reply.started": "2021-06-14T11:16:38.258488Z"
    }
   },
   "outputs": [],
   "source": [
    "# deleting points\n",
    "drop_index = train_data.sort_values(by = 'GrLivArea', ascending = False)[0:2].index\n",
    "drop_index\n",
    "train_data = train_data.drop(drop_index)"
   ]
  },
  {
   "cell_type": "code",
   "execution_count": null,
   "metadata": {
    "execution": {
     "iopub.execute_input": "2021-06-14T11:16:40.952846Z",
     "iopub.status.busy": "2021-06-14T11:16:40.952511Z",
     "iopub.status.idle": "2021-06-14T11:16:40.986857Z",
     "shell.execute_reply": "2021-06-14T11:16:40.985963Z",
     "shell.execute_reply.started": "2021-06-14T11:16:40.952816Z"
    }
   },
   "outputs": [],
   "source": [
    "train_data"
   ]
  },
  {
   "cell_type": "code",
   "execution_count": null,
   "metadata": {
    "execution": {
     "iopub.execute_input": "2021-06-14T11:16:48.81416Z",
     "iopub.status.busy": "2021-06-14T11:16:48.813818Z",
     "iopub.status.idle": "2021-06-14T11:16:49.007763Z",
     "shell.execute_reply": "2021-06-14T11:16:49.006885Z",
     "shell.execute_reply.started": "2021-06-14T11:16:48.81412Z"
    }
   },
   "outputs": [],
   "source": [
    "#bivariate analysis saleprice/grlivarea\n",
    "var = 'TotalBsmtSF'\n",
    "data = pd.concat([train_data['SalePrice'], train_data[var]], axis=1)\n",
    "data.plot.scatter(x=var, y='SalePrice', ylim=(0,800000))"
   ]
  },
  {
   "cell_type": "code",
   "execution_count": null,
   "metadata": {
    "execution": {
     "iopub.execute_input": "2021-06-14T11:16:52.218553Z",
     "iopub.status.busy": "2021-06-14T11:16:52.218249Z",
     "iopub.status.idle": "2021-06-14T11:16:52.624938Z",
     "shell.execute_reply": "2021-06-14T11:16:52.624023Z",
     "shell.execute_reply.started": "2021-06-14T11:16:52.218527Z"
    }
   },
   "outputs": [],
   "source": [
    "# histogram and normal probability plot\n",
    "sns.distplot(train_data['SalePrice'], fit = norm)\n",
    "fig = plt.figure()\n",
    "res = stats.probplot(train_data['SalePrice'], plot = plt)"
   ]
  },
  {
   "cell_type": "code",
   "execution_count": null,
   "metadata": {
    "execution": {
     "iopub.execute_input": "2021-06-14T11:17:01.432178Z",
     "iopub.status.busy": "2021-06-14T11:17:01.431842Z",
     "iopub.status.idle": "2021-06-14T11:17:01.838489Z",
     "shell.execute_reply": "2021-06-14T11:17:01.837583Z",
     "shell.execute_reply.started": "2021-06-14T11:17:01.432144Z"
    }
   },
   "outputs": [],
   "source": [
    "# applying log transformation\n",
    "train_data['SalePrice'] = np.log1p(train_data['SalePrice'])\n",
    "\n",
    "#transformed histogram and normal probability plot\n",
    "sns.distplot(train_data['SalePrice'], fit=norm)\n",
    "fig = plt.figure()\n",
    "res = stats.probplot(train_data['SalePrice'], plot=plt)"
   ]
  },
  {
   "cell_type": "code",
   "execution_count": null,
   "metadata": {
    "execution": {
     "iopub.execute_input": "2021-06-14T11:17:10.606377Z",
     "iopub.status.busy": "2021-06-14T11:17:10.606032Z",
     "iopub.status.idle": "2021-06-14T11:17:10.987189Z",
     "shell.execute_reply": "2021-06-14T11:17:10.986287Z",
     "shell.execute_reply.started": "2021-06-14T11:17:10.606349Z"
    }
   },
   "outputs": [],
   "source": [
    "#histogram and normal probability plot\n",
    "sns.distplot(train_data['GrLivArea'], fit=norm);\n",
    "fig = plt.figure()\n",
    "res = stats.probplot(train_data['GrLivArea'], plot=plt)"
   ]
  },
  {
   "cell_type": "code",
   "execution_count": null,
   "metadata": {
    "execution": {
     "iopub.execute_input": "2021-06-14T11:17:17.838143Z",
     "iopub.status.busy": "2021-06-14T11:17:17.837821Z",
     "iopub.status.idle": "2021-06-14T11:17:17.844992Z",
     "shell.execute_reply": "2021-06-14T11:17:17.844153Z",
     "shell.execute_reply.started": "2021-06-14T11:17:17.838107Z"
    }
   },
   "outputs": [],
   "source": [
    "#data transformation\n",
    "data = [train_data, test_data]\n",
    "for dataset in data:\n",
    "    \n",
    "    dataset['GrLivArea'] = np.log1p(dataset['GrLivArea'])"
   ]
  },
  {
   "cell_type": "code",
   "execution_count": null,
   "metadata": {
    "execution": {
     "iopub.execute_input": "2021-06-14T11:17:38.004839Z",
     "iopub.status.busy": "2021-06-14T11:17:38.004541Z",
     "iopub.status.idle": "2021-06-14T11:17:38.397281Z",
     "shell.execute_reply": "2021-06-14T11:17:38.396409Z",
     "shell.execute_reply.started": "2021-06-14T11:17:38.004814Z"
    }
   },
   "outputs": [],
   "source": [
    "#transformed histogram and normal probability plot\n",
    "sns.distplot(train_data['GrLivArea'], fit=norm);\n",
    "fig = plt.figure()\n",
    "res = stats.probplot(train_data['GrLivArea'], plot=plt)"
   ]
  },
  {
   "cell_type": "code",
   "execution_count": null,
   "metadata": {
    "execution": {
     "iopub.execute_input": "2021-06-14T11:17:44.487405Z",
     "iopub.status.busy": "2021-06-14T11:17:44.487025Z",
     "iopub.status.idle": "2021-06-14T11:17:44.90041Z",
     "shell.execute_reply": "2021-06-14T11:17:44.899493Z",
     "shell.execute_reply.started": "2021-06-14T11:17:44.487375Z"
    }
   },
   "outputs": [],
   "source": [
    "#histogram and normal probability plot\n",
    "sns.distplot(train_data['TotalBsmtSF'], fit=norm);\n",
    "fig = plt.figure()\n",
    "res = stats.probplot(train_data['TotalBsmtSF'], plot=plt)"
   ]
  },
  {
   "cell_type": "code",
   "execution_count": null,
   "metadata": {
    "execution": {
     "iopub.execute_input": "2021-06-14T11:19:15.115971Z",
     "iopub.status.busy": "2021-06-14T11:19:15.11566Z",
     "iopub.status.idle": "2021-06-14T11:19:15.525631Z",
     "shell.execute_reply": "2021-06-14T11:19:15.525016Z",
     "shell.execute_reply.started": "2021-06-14T11:19:15.115944Z"
    }
   },
   "outputs": [],
   "source": [
    "test_data['TotalBsmtSF'].describe()\n",
    "sns.distplot(test_data['TotalBsmtSF'], fit=norm);\n",
    "fig = plt.figure()\n",
    "res = stats.probplot(test_data['TotalBsmtSF'], plot=plt)"
   ]
  },
  {
   "cell_type": "code",
   "execution_count": null,
   "metadata": {
    "execution": {
     "iopub.execute_input": "2021-06-12T22:01:30.245244Z",
     "iopub.status.busy": "2021-06-12T22:01:30.244859Z",
     "iopub.status.idle": "2021-06-12T22:01:30.258478Z",
     "shell.execute_reply": "2021-06-12T22:01:30.257582Z",
     "shell.execute_reply.started": "2021-06-12T22:01:30.245211Z"
    }
   },
   "outputs": [],
   "source": [
    "# A significant number of observations with value zero (houses without basements)\n",
    "# A big problem because the value zero doesn't allow us to do log transformations\n",
    "# to apply a log transformation, we will create a variable that can get the effect of having or not having basement(binary variable), \n",
    "# then we will do a log transformationto all the non-zero observations, ignoring the ones with value zero.\n",
    "\n",
    "# create column for new variable\n",
    "# if area > 0, it gets 1, for area == 0 it gets 0\n",
    "# for dataset in data:\n",
    "#     dataset['HasBsmt'] = pd.Series(len(dataset['TotalBsmtSF']), index = dataset.index)\n",
    "#     dataset['HasBsmt'] = 0\n",
    "#     dataset.loc[dataset['TotalBsmtSF'] > 0, 'HasBsmt'] = 1\n",
    "\n",
    "# train_data['HasBsmt']\n"
   ]
  },
  {
   "cell_type": "code",
   "execution_count": null,
   "metadata": {
    "execution": {
     "iopub.execute_input": "2021-06-12T22:06:46.736181Z",
     "iopub.status.busy": "2021-06-12T22:06:46.735761Z",
     "iopub.status.idle": "2021-06-12T22:06:46.7486Z",
     "shell.execute_reply": "2021-06-12T22:06:46.747291Z",
     "shell.execute_reply.started": "2021-06-12T22:06:46.736145Z"
    }
   },
   "outputs": [],
   "source": [
    "#transform data\n",
    "# for dataset in data:\n",
    "#     dataset.loc[dataset['HasBsmt']==1,'TotalBsmtSF'] = np.log(dataset['TotalBsmtSF'])"
   ]
  },
  {
   "cell_type": "code",
   "execution_count": null,
   "metadata": {
    "execution": {
     "iopub.execute_input": "2021-06-12T22:06:57.935785Z",
     "iopub.status.busy": "2021-06-12T22:06:57.93544Z",
     "iopub.status.idle": "2021-06-12T22:06:58.416853Z",
     "shell.execute_reply": "2021-06-12T22:06:58.415887Z",
     "shell.execute_reply.started": "2021-06-12T22:06:57.935755Z"
    }
   },
   "outputs": [],
   "source": [
    "# # histogram and normal probability plot\n",
    "# sns.distplot(train_data[train_data['TotalBsmtSF'] > 0]['TotalBsmtSF'], fit = norm)\n",
    "# fig = plt.figure()\n",
    "# res = stats.probplot(train_data[train_data['TotalBsmtSF'] > 0]['TotalBsmtSF'], plot = plt)"
   ]
  },
  {
   "cell_type": "code",
   "execution_count": null,
   "metadata": {
    "execution": {
     "iopub.execute_input": "2021-06-12T22:08:11.966284Z",
     "iopub.status.busy": "2021-06-12T22:08:11.965795Z",
     "iopub.status.idle": "2021-06-12T22:08:12.437427Z",
     "shell.execute_reply": "2021-06-12T22:08:12.43681Z",
     "shell.execute_reply.started": "2021-06-12T22:08:11.966252Z"
    }
   },
   "outputs": [],
   "source": [
    "# # histogram and normal probability plot\n",
    "# sns.distplot(test_data[test_data['TotalBsmtSF'] > 0]['TotalBsmtSF'], fit = norm)\n",
    "# fig = plt.figure()\n",
    "# res = stats.probplot(test_data[test_data['TotalBsmtSF'] > 0]['TotalBsmtSF'], plot = plt)"
   ]
  },
  {
   "cell_type": "code",
   "execution_count": null,
   "metadata": {
    "execution": {
     "iopub.execute_input": "2021-06-14T11:21:04.947842Z",
     "iopub.status.busy": "2021-06-14T11:21:04.947497Z",
     "iopub.status.idle": "2021-06-14T11:21:04.954227Z",
     "shell.execute_reply": "2021-06-14T11:21:04.953435Z",
     "shell.execute_reply.started": "2021-06-14T11:21:04.947804Z"
    }
   },
   "outputs": [],
   "source": [
    "#data transformation\n",
    "data = [train_data, test_data]\n",
    "for dataset in data:\n",
    "    \n",
    "    dataset['TotalBsmtSF'] = np.log1p(dataset['TotalBsmtSF'])"
   ]
  },
  {
   "cell_type": "code",
   "execution_count": null,
   "metadata": {
    "execution": {
     "iopub.execute_input": "2021-06-14T11:23:13.680177Z",
     "iopub.status.busy": "2021-06-14T11:23:13.679833Z",
     "iopub.status.idle": "2021-06-14T11:23:14.074543Z",
     "shell.execute_reply": "2021-06-14T11:23:14.07365Z",
     "shell.execute_reply.started": "2021-06-14T11:23:13.680147Z"
    }
   },
   "outputs": [],
   "source": [
    "# histogram and normal probability plot\n",
    "sns.distplot(train_data['TotalBsmtSF'], fit = norm)\n",
    "fig = plt.figure()\n",
    "res = stats.probplot(train_data['TotalBsmtSF'], plot = plt)"
   ]
  },
  {
   "cell_type": "code",
   "execution_count": null,
   "metadata": {
    "execution": {
     "iopub.execute_input": "2021-06-14T11:24:39.936485Z",
     "iopub.status.busy": "2021-06-14T11:24:39.936041Z",
     "iopub.status.idle": "2021-06-14T11:24:40.383632Z",
     "shell.execute_reply": "2021-06-14T11:24:40.382856Z",
     "shell.execute_reply.started": "2021-06-14T11:24:39.936456Z"
    }
   },
   "outputs": [],
   "source": [
    "# histogram and normal probability plot\n",
    "sns.distplot(test_data[test_data['TotalBsmtSF'] > 0]['TotalBsmtSF'], fit = norm)\n",
    "fig = plt.figure()\n",
    "res = stats.probplot(test_data[test_data['TotalBsmtSF'] > 0]['TotalBsmtSF'], plot = plt)"
   ]
  },
  {
   "cell_type": "code",
   "execution_count": null,
   "metadata": {
    "execution": {
     "iopub.execute_input": "2021-06-14T11:24:07.490865Z",
     "iopub.status.busy": "2021-06-14T11:24:07.490561Z",
     "iopub.status.idle": "2021-06-14T11:24:07.651298Z",
     "shell.execute_reply": "2021-06-14T11:24:07.650479Z",
     "shell.execute_reply.started": "2021-06-14T11:24:07.490839Z"
    }
   },
   "outputs": [],
   "source": [
    "plt.scatter(train_data['GrLivArea'], train_data['SalePrice'])"
   ]
  },
  {
   "cell_type": "code",
   "execution_count": null,
   "metadata": {
    "execution": {
     "iopub.execute_input": "2021-06-14T11:27:26.831371Z",
     "iopub.status.busy": "2021-06-14T11:27:26.831025Z",
     "iopub.status.idle": "2021-06-14T11:27:27.015266Z",
     "shell.execute_reply": "2021-06-14T11:27:27.014335Z",
     "shell.execute_reply.started": "2021-06-14T11:27:26.831344Z"
    }
   },
   "outputs": [],
   "source": [
    "plt.scatter(train_data[train_data['TotalBsmtSF']>0]['TotalBsmtSF'], train_data[train_data['TotalBsmtSF']>0]['SalePrice'])"
   ]
  },
  {
   "cell_type": "code",
   "execution_count": null,
   "metadata": {
    "execution": {
     "iopub.execute_input": "2021-06-14T11:28:47.253321Z",
     "iopub.status.busy": "2021-06-14T11:28:47.253001Z",
     "iopub.status.idle": "2021-06-14T11:28:47.274045Z",
     "shell.execute_reply": "2021-06-14T11:28:47.273252Z",
     "shell.execute_reply.started": "2021-06-14T11:28:47.253294Z"
    }
   },
   "outputs": [],
   "source": [
    "train_data.info()"
   ]
  },
  {
   "cell_type": "code",
   "execution_count": null,
   "metadata": {
    "execution": {
     "iopub.execute_input": "2021-06-14T11:29:42.039773Z",
     "iopub.status.busy": "2021-06-14T11:29:42.039428Z",
     "iopub.status.idle": "2021-06-14T11:29:42.056055Z",
     "shell.execute_reply": "2021-06-14T11:29:42.055429Z",
     "shell.execute_reply.started": "2021-06-14T11:29:42.039746Z"
    }
   },
   "outputs": [],
   "source": [
    "test_data.info()"
   ]
  },
  {
   "cell_type": "code",
   "execution_count": null,
   "metadata": {
    "execution": {
     "iopub.execute_input": "2021-06-12T22:08:50.305454Z",
     "iopub.status.busy": "2021-06-12T22:08:50.30512Z",
     "iopub.status.idle": "2021-06-12T22:08:50.34248Z",
     "shell.execute_reply": "2021-06-12T22:08:50.341543Z",
     "shell.execute_reply.started": "2021-06-12T22:08:50.305425Z"
    }
   },
   "outputs": [],
   "source": [
    "# Dummy Variables: convert categorical variable into dummy\n",
    "train_data_dummy = pd.get_dummies(train_data)"
   ]
  },
  {
   "cell_type": "code",
   "execution_count": null,
   "metadata": {
    "execution": {
     "iopub.execute_input": "2021-06-12T22:09:00.586034Z",
     "iopub.status.busy": "2021-06-12T22:09:00.585644Z",
     "iopub.status.idle": "2021-06-12T22:09:00.608713Z",
     "shell.execute_reply": "2021-06-12T22:09:00.607896Z",
     "shell.execute_reply.started": "2021-06-12T22:09:00.585999Z"
    }
   },
   "outputs": [],
   "source": [
    "train_data_dummy"
   ]
  },
  {
   "cell_type": "code",
   "execution_count": null,
   "metadata": {
    "execution": {
     "iopub.execute_input": "2021-06-12T22:09:56.328974Z",
     "iopub.status.busy": "2021-06-12T22:09:56.328613Z",
     "iopub.status.idle": "2021-06-12T22:09:56.361493Z",
     "shell.execute_reply": "2021-06-12T22:09:56.360525Z",
     "shell.execute_reply.started": "2021-06-12T22:09:56.328944Z"
    }
   },
   "outputs": [],
   "source": [
    "# Dummy Variables: convert categorical variable into dummy\n",
    "test_data_dummy = pd.get_dummies(test_data)"
   ]
  },
  {
   "cell_type": "code",
   "execution_count": null,
   "metadata": {
    "execution": {
     "iopub.execute_input": "2021-06-12T22:18:28.523586Z",
     "iopub.status.busy": "2021-06-12T22:18:28.523138Z",
     "iopub.status.idle": "2021-06-12T22:18:28.55081Z",
     "shell.execute_reply": "2021-06-12T22:18:28.550055Z",
     "shell.execute_reply.started": "2021-06-12T22:18:28.523537Z"
    }
   },
   "outputs": [],
   "source": [
    "test_data_dummy"
   ]
  },
  {
   "cell_type": "code",
   "execution_count": null,
   "metadata": {
    "execution": {
     "iopub.execute_input": "2021-06-12T22:12:46.558587Z",
     "iopub.status.busy": "2021-06-12T22:12:46.55822Z",
     "iopub.status.idle": "2021-06-12T22:12:47.370897Z",
     "shell.execute_reply": "2021-06-12T22:12:47.369829Z",
     "shell.execute_reply.started": "2021-06-12T22:12:46.558555Z"
    }
   },
   "outputs": [],
   "source": [
    "print('training dataset with dummies: \\n',train_data_dummy.describe())\n",
    "print('test dataset with dummies: \\n',test_data_dummy.describe())"
   ]
  },
  {
   "cell_type": "code",
   "execution_count": null,
   "metadata": {
    "execution": {
     "iopub.execute_input": "2021-06-11T21:30:30.775413Z",
     "iopub.status.busy": "2021-06-11T21:30:30.774799Z",
     "iopub.status.idle": "2021-06-11T21:30:30.78382Z",
     "shell.execute_reply": "2021-06-11T21:30:30.783129Z",
     "shell.execute_reply.started": "2021-06-11T21:30:30.775365Z"
    }
   },
   "outputs": [],
   "source": [
    "X_train = train_data_dummy.drop(['Id', 'SalePrice'], axis =1).values"
   ]
  },
  {
   "cell_type": "code",
   "execution_count": null,
   "metadata": {
    "execution": {
     "iopub.execute_input": "2021-06-11T21:30:35.055171Z",
     "iopub.status.busy": "2021-06-11T21:30:35.054859Z",
     "iopub.status.idle": "2021-06-11T21:30:35.058578Z",
     "shell.execute_reply": "2021-06-11T21:30:35.057634Z",
     "shell.execute_reply.started": "2021-06-11T21:30:35.055145Z"
    }
   },
   "outputs": [],
   "source": [
    "Y_train = train_data_dummy['SalePrice'].values"
   ]
  },
  {
   "cell_type": "code",
   "execution_count": null,
   "metadata": {
    "execution": {
     "iopub.execute_input": "2021-06-11T21:30:51.662593Z",
     "iopub.status.busy": "2021-06-11T21:30:51.662165Z",
     "iopub.status.idle": "2021-06-11T21:30:51.665681Z",
     "shell.execute_reply": "2021-06-11T21:30:51.665113Z",
     "shell.execute_reply.started": "2021-06-11T21:30:51.662565Z"
    }
   },
   "outputs": [],
   "source": [
    "# Train a model\n",
    "# Set cross validation folds\n",
    "kf = KFold(n_splits = 12, random_state = 42, shuffle = True)"
   ]
  },
  {
   "cell_type": "code",
   "execution_count": null,
   "metadata": {
    "execution": {
     "iopub.execute_input": "2021-06-11T21:30:54.172981Z",
     "iopub.status.busy": "2021-06-11T21:30:54.172531Z",
     "iopub.status.idle": "2021-06-11T21:30:54.177031Z",
     "shell.execute_reply": "2021-06-11T21:30:54.176237Z",
     "shell.execute_reply.started": "2021-06-11T21:30:54.172949Z"
    }
   },
   "outputs": [],
   "source": [
    "# Define error metrics\n",
    "def rmsle(y, y_pred):\n",
    "    return np.sqrt(mean_squared_error(y, y_pred))\n",
    "\n",
    "def cv_rmse(model, X = X_train):\n",
    "    rmse = np.sqrt(-cross_val_score(model, X, Y_train, scoring = 'neg_mean_squared_error', cv = kf))\n",
    "    return (rmse)"
   ]
  },
  {
   "cell_type": "code",
   "execution_count": null,
   "metadata": {
    "execution": {
     "iopub.execute_input": "2021-06-11T21:30:56.147259Z",
     "iopub.status.busy": "2021-06-11T21:30:56.146953Z",
     "iopub.status.idle": "2021-06-11T21:30:56.157603Z",
     "shell.execute_reply": "2021-06-11T21:30:56.156763Z",
     "shell.execute_reply.started": "2021-06-11T21:30:56.147233Z"
    }
   },
   "outputs": [],
   "source": [
    "# Light Gradient Boosting Regressor\n",
    "lightgbm = LGBMRegressor(objective = 'regression',\n",
    "                        num_leaves = 6,\n",
    "                        learning_rate = 0.01,\n",
    "                        n_estimators = 7000,\n",
    "                        max_bin = 200,\n",
    "                        bagging_fraction=0.8,\n",
    "                        bagging_freq=4, \n",
    "                        bagging_seed=8,\n",
    "                        feature_fraction=0.2,\n",
    "                        feature_fraction_seed=8,\n",
    "                        min_sum_hessian_in_leaf = 11,\n",
    "                        verbose=-1,\n",
    "                        random_state=42)\n",
    "\n",
    "# XGBoost Regressor\n",
    "xgboost = XGBRegressor(learning_rate=0.01,\n",
    "                       n_estimators=6000,\n",
    "                       max_depth=4,\n",
    "                       min_child_weight=0,\n",
    "                       gamma=0.6,\n",
    "                       subsample=0.7,\n",
    "                       colsample_bytree=0.7,\n",
    "                       objective='reg:linear',\n",
    "                       nthread=-1,\n",
    "                       scale_pos_weight=1,\n",
    "                       seed=27,\n",
    "                       reg_alpha=0.00006,\n",
    "                       random_state=42)\n",
    "\n",
    "# Ridge Regressor\n",
    "ridge_alphas = [1e-15, 1e-10, 1e-8, 9e-4, 7e-4, 5e-4, 3e-4, 1e-4, 1e-3, 5e-2, 1e-2, 0.1, 0.3, 1, 3, 5, 10, 15, 18, 20, 30, 50, 75, 100]\n",
    "ridge = make_pipeline(RobustScaler(), RidgeCV(alphas=ridge_alphas, cv=kf))\n",
    "\n",
    "# Support Vector Regressor\n",
    "svr = make_pipeline(RobustScaler(), SVR(C= 20, epsilon= 0.008, gamma=0.0003))\n",
    "\n",
    "# Gradient Boosting Regressor\n",
    "gbr = GradientBoostingRegressor(n_estimators=6000,\n",
    "                                learning_rate=0.01,\n",
    "                                max_depth=4,\n",
    "                                max_features='sqrt',\n",
    "                                min_samples_leaf=15,\n",
    "                                min_samples_split=10,\n",
    "                                loss='huber',\n",
    "                                random_state=42)\n",
    "\n",
    "# Random Forest Regressor\n",
    "rf = RandomForestRegressor(n_estimators=1200,\n",
    "                          max_depth=15,\n",
    "                          min_samples_split=5,\n",
    "                          min_samples_leaf=5,\n",
    "                          max_features=None,\n",
    "                          oob_score=True,\n",
    "                          random_state=42)\n",
    "\n",
    "# Stack up all the models above, optimized using xgboost\n",
    "stack_gen = StackingCVRegressor(regressors=(xgboost, lightgbm, svr, ridge, gbr, rf),\n",
    "                                meta_regressor=xgboost,\n",
    "                                use_features_in_secondary=True)"
   ]
  },
  {
   "cell_type": "code",
   "execution_count": null,
   "metadata": {
    "execution": {
     "iopub.execute_input": "2021-06-11T21:30:59.180918Z",
     "iopub.status.busy": "2021-06-11T21:30:59.180291Z",
     "iopub.status.idle": "2021-06-11T21:31:33.563934Z",
     "shell.execute_reply": "2021-06-11T21:31:33.561599Z",
     "shell.execute_reply.started": "2021-06-11T21:30:59.180872Z"
    }
   },
   "outputs": [],
   "source": [
    "scores = {}\n",
    "\n",
    "score = cv_rmse(lightgbm)\n",
    "print('lightgbm: {:.4f} ({:.4f})'.format(score.mean(), score.std()))\n",
    "scores['lgb'] = (score.mean(), score.std())"
   ]
  },
  {
   "cell_type": "code",
   "execution_count": null,
   "metadata": {
    "execution": {
     "iopub.execute_input": "2021-06-11T21:31:33.56687Z",
     "iopub.status.busy": "2021-06-11T21:31:33.566449Z",
     "iopub.status.idle": "2021-06-11T21:35:05.362424Z",
     "shell.execute_reply": "2021-06-11T21:35:05.361496Z",
     "shell.execute_reply.started": "2021-06-11T21:31:33.566831Z"
    }
   },
   "outputs": [],
   "source": [
    "score = cv_rmse(xgboost)\n",
    "print(\"xgboost: {:.4f} ({:.4f})\".format(score.mean(), score.std()))\n",
    "scores['xgb'] = (score.mean(), score.std())"
   ]
  },
  {
   "cell_type": "code",
   "execution_count": null,
   "metadata": {
    "execution": {
     "iopub.execute_input": "2021-06-11T21:35:05.364789Z",
     "iopub.status.busy": "2021-06-11T21:35:05.364421Z",
     "iopub.status.idle": "2021-06-11T21:35:10.685563Z",
     "shell.execute_reply": "2021-06-11T21:35:10.684741Z",
     "shell.execute_reply.started": "2021-06-11T21:35:05.364749Z"
    }
   },
   "outputs": [],
   "source": [
    "score = cv_rmse(svr)\n",
    "print(\"SVR: {:.4f} ({:.4f})\".format(score.mean(), score.std()))\n",
    "scores['svr'] = (score.mean(), score.std())"
   ]
  },
  {
   "cell_type": "code",
   "execution_count": null,
   "metadata": {
    "execution": {
     "iopub.execute_input": "2021-06-11T21:35:10.687397Z",
     "iopub.status.busy": "2021-06-11T21:35:10.687068Z",
     "iopub.status.idle": "2021-06-11T21:35:51.182503Z",
     "shell.execute_reply": "2021-06-11T21:35:51.181676Z",
     "shell.execute_reply.started": "2021-06-11T21:35:10.687361Z"
    }
   },
   "outputs": [],
   "source": [
    "score = cv_rmse(ridge)\n",
    "print(\"ridge: {:.4f} ({:.4f})\".format(score.mean(), score.std()))\n",
    "scores['ridge'] = (score.mean(), score.std())"
   ]
  },
  {
   "cell_type": "code",
   "execution_count": null,
   "metadata": {
    "execution": {
     "iopub.execute_input": "2021-06-11T21:35:51.185889Z",
     "iopub.status.busy": "2021-06-11T21:35:51.184269Z",
     "iopub.status.idle": "2021-06-11T21:38:47.758972Z",
     "shell.execute_reply": "2021-06-11T21:38:47.758358Z",
     "shell.execute_reply.started": "2021-06-11T21:35:51.185849Z"
    }
   },
   "outputs": [],
   "source": [
    "score = cv_rmse(rf)\n",
    "print(\"rf: {:.4f} ({:.4f})\".format(score.mean(), score.std()))\n",
    "scores['rf'] = (score.mean(), score.std())"
   ]
  },
  {
   "cell_type": "code",
   "execution_count": null,
   "metadata": {
    "execution": {
     "iopub.execute_input": "2021-06-11T21:38:47.76036Z",
     "iopub.status.busy": "2021-06-11T21:38:47.759974Z",
     "iopub.status.idle": "2021-06-11T21:43:44.408608Z",
     "shell.execute_reply": "2021-06-11T21:43:44.407618Z",
     "shell.execute_reply.started": "2021-06-11T21:38:47.760332Z"
    }
   },
   "outputs": [],
   "source": [
    "score = cv_rmse(gbr)\n",
    "print(\"gbr: {:.4f} ({:.4f})\".format(score.mean(), score.std()))\n",
    "scores['gbr'] = (score.mean(), score.std())"
   ]
  },
  {
   "cell_type": "code",
   "execution_count": null,
   "metadata": {
    "execution": {
     "iopub.execute_input": "2021-06-11T21:43:44.410077Z",
     "iopub.status.busy": "2021-06-11T21:43:44.409809Z",
     "iopub.status.idle": "2021-06-11T21:50:09.022118Z",
     "shell.execute_reply": "2021-06-11T21:50:09.020676Z",
     "shell.execute_reply.started": "2021-06-11T21:43:44.410053Z"
    }
   },
   "outputs": [],
   "source": [
    "# fit the models\n",
    "print('stack_gen')\n",
    "stack_gen_model = stack_gen.fit(X_train, Y_train)"
   ]
  },
  {
   "cell_type": "code",
   "execution_count": null,
   "metadata": {
    "execution": {
     "iopub.execute_input": "2021-06-11T14:58:13.187931Z",
     "iopub.status.busy": "2021-06-11T14:58:13.187526Z",
     "iopub.status.idle": "2021-06-11T14:58:13.204857Z",
     "shell.execute_reply": "2021-06-11T14:58:13.20384Z",
     "shell.execute_reply.started": "2021-06-11T14:58:13.187896Z"
    }
   },
   "outputs": [],
   "source": [
    "np.array(X_train)"
   ]
  },
  {
   "cell_type": "code",
   "execution_count": null,
   "metadata": {
    "execution": {
     "iopub.execute_input": "2021-06-11T21:58:13.619585Z",
     "iopub.status.busy": "2021-06-11T21:58:13.618864Z",
     "iopub.status.idle": "2021-06-11T21:59:23.095846Z",
     "shell.execute_reply": "2021-06-11T21:59:23.09495Z",
     "shell.execute_reply.started": "2021-06-11T21:58:13.619482Z"
    }
   },
   "outputs": [],
   "source": [
    "print('lightgbm')\n",
    "lgb_model_full_data = lightgbm.fit(X_train, Y_train)\n",
    "                                  \n",
    "print('xgboost')\n",
    "xgb_model_full_data = xgboost.fit(X_train, Y_train)\n",
    "\n",
    "print('Svr')\n",
    "svr_model_full_data = svr.fit(X_train, Y_train)\n",
    "\n",
    "print('Ridge')\n",
    "ridge_model_full_data = ridge.fit(X_train, Y_train)\n",
    "\n",
    "print('RandomForest')\n",
    "rf_model_full_data = rf.fit(X_train, Y_train)\n",
    "\n",
    "print('GradientBoosting')\n",
    "gbr_model_full_data = gbr.fit(X_train, Y_train)"
   ]
  },
  {
   "cell_type": "code",
   "execution_count": null,
   "metadata": {
    "execution": {
     "iopub.execute_input": "2021-06-11T22:00:00.623001Z",
     "iopub.status.busy": "2021-06-11T22:00:00.622528Z",
     "iopub.status.idle": "2021-06-11T22:00:00.627564Z",
     "shell.execute_reply": "2021-06-11T22:00:00.62697Z",
     "shell.execute_reply.started": "2021-06-11T22:00:00.622972Z"
    }
   },
   "outputs": [],
   "source": [
    "# Blend models in order to make the final predictions more robust to overfitting\n",
    "def blended_predictions(X):\n",
    "    return ((0.1 * ridge_model_full_data.predict(X)) + \n",
    "            (0.2 * svr_model_full_data.predict(X)) + \n",
    "            (0.1 * gbr_model_full_data.predict(X)) + \n",
    "            (0.1 * xgb_model_full_data.predict(X)) + \n",
    "            (0.1 * lgb_model_full_data.predict(X)) + \n",
    "            (0.05 * rf_model_full_data.predict(X)) + \n",
    "            (0.35 * stack_gen_model.predict(np.array(X))))"
   ]
  },
  {
   "cell_type": "code",
   "execution_count": null,
   "metadata": {
    "execution": {
     "iopub.execute_input": "2021-06-11T22:00:08.341358Z",
     "iopub.status.busy": "2021-06-11T22:00:08.341033Z",
     "iopub.status.idle": "2021-06-11T22:00:10.477212Z",
     "shell.execute_reply": "2021-06-11T22:00:10.476345Z",
     "shell.execute_reply.started": "2021-06-11T22:00:08.341331Z"
    }
   },
   "outputs": [],
   "source": [
    "# Get final precitions from the blended model\n",
    "blended_score = rmsle(Y_train, blended_predictions(X_train))\n",
    "scores['blended'] = (blended_score, 0)\n",
    "print('RMSLE score on train data:')\n",
    "print(blended_score)"
   ]
  },
  {
   "cell_type": "code",
   "execution_count": null,
   "metadata": {},
   "outputs": [],
   "source": []
  }
 ],
 "metadata": {
  "kernelspec": {
   "display_name": "Python 3",
   "language": "python",
   "name": "python3"
  },
  "language_info": {
   "codemirror_mode": {
    "name": "ipython",
    "version": 3
   },
   "file_extension": ".py",
   "mimetype": "text/x-python",
   "name": "python",
   "nbconvert_exporter": "python",
   "pygments_lexer": "ipython3",
   "version": "3.8.8"
  }
 },
 "nbformat": 4,
 "nbformat_minor": 4
}
